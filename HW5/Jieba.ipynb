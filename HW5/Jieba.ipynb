{
 "cells": [
  {
   "cell_type": "code",
   "execution_count": 1,
   "metadata": {},
   "outputs": [],
   "source": [
    "import requests\n",
    "from bs4 import BeautifulSoup\n",
    "import matplotlib as mpl\n",
    "import matplotlib.pyplot as plt\n",
    "import numpy as np\n",
    "import jieba\n",
    "\n",
    "r = requests.get('http://www.qf.nthu.edu.tw/p/412-1366-4556.php')\n",
    "soup = BeautifulSoup(r.text, 'html.parser')\n",
    "\n",
    "p_tags = soup.find(id=\"editor\").find_all('p')\n",
    "text = ['']*4\n",
    "text[0] = p_tags[1].get_text()\n",
    "text[1] = p_tags[2].get_text()\n",
    "text[2] = p_tags[3].get_text()\n",
    "text[3] = p_tags[4].get_text()"
   ]
  },
  {
   "cell_type": "code",
   "execution_count": 2,
   "metadata": {},
   "outputs": [
    {
     "name": "stderr",
     "output_type": "stream",
     "text": [
      "Building prefix dict from D:\\QF-3218\\dict.txt.big.txt ...\n",
      "Loading model from cache C:\\Users\\user\\AppData\\Local\\Temp\\jieba.uc926781b30f4dbf6831e9452e6fd232b.cache\n",
      "Loading model cost 1.016 seconds.\n",
      "Prefix dict has been built successfully.\n"
     ]
    }
   ],
   "source": [
    "jieba.set_dictionary('../dict.txt.big.txt')\n",
    "jieba.suggest_freq('賓大華頓學院', True)\n",
    "\n",
    "f = open('text.txt', 'w')\n",
    "\n",
    "for i in range(4):\n",
    "    seg_list = jieba.cut(text[i])\n",
    "    temp = \" \".join(seg_list)\n",
    "    f.write(temp+'\\n')\n",
    "\n",
    "f.close()"
   ]
  },
  {
   "cell_type": "code",
   "execution_count": null,
   "metadata": {},
   "outputs": [],
   "source": []
  }
 ],
 "metadata": {
  "kernelspec": {
   "display_name": "Python 3",
   "language": "python",
   "name": "python3"
  },
  "language_info": {
   "codemirror_mode": {
    "name": "ipython",
    "version": 3
   },
   "file_extension": ".py",
   "mimetype": "text/x-python",
   "name": "python",
   "nbconvert_exporter": "python",
   "pygments_lexer": "ipython3",
   "version": "3.6.10"
  }
 },
 "nbformat": 4,
 "nbformat_minor": 4
}
