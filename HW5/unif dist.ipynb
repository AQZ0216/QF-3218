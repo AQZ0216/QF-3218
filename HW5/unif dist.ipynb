{
 "cells": [
  {
   "cell_type": "code",
   "execution_count": 1,
   "metadata": {},
   "outputs": [
    {
     "name": "stdout",
     "output_type": "stream",
     "text": [
      "[7, 38, 32, 4, 19, 5, 29, 30, 0, 22, 9, 15, 31, 12, 11, 36, 21, 1, 24, 33]\n"
     ]
    }
   ],
   "source": [
    "import numpy as np\n",
    "import random\n",
    "\n",
    "popu = np.arange(40)\n",
    "samp = []\n",
    "\n",
    "for i in range(20):\n",
    "    length = len(popu)\n",
    "    temp = random.randint(0, length-1)\n",
    "    samp.append(popu[temp])\n",
    "    popu = np.delete(popu, temp)\n",
    "\n",
    "print(samp)"
   ]
  },
  {
   "cell_type": "code",
   "execution_count": null,
   "metadata": {},
   "outputs": [],
   "source": []
  }
 ],
 "metadata": {
  "kernelspec": {
   "display_name": "Python 3",
   "language": "python",
   "name": "python3"
  },
  "language_info": {
   "codemirror_mode": {
    "name": "ipython",
    "version": 3
   },
   "file_extension": ".py",
   "mimetype": "text/x-python",
   "name": "python",
   "nbconvert_exporter": "python",
   "pygments_lexer": "ipython3",
   "version": "3.6.10"
  }
 },
 "nbformat": 4,
 "nbformat_minor": 4
}
